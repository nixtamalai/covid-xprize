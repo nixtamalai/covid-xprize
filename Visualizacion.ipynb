{
 "cells": [
  {
   "cell_type": "markdown",
   "metadata": {},
   "source": [
    "# Graficas para visualizador"
   ]
  },
  {
   "cell_type": "code",
   "execution_count": 8,
   "metadata": {},
   "outputs": [],
   "source": [
    "import os\n",
    "import matplotlib.pyplot as plt\n",
    "%matplotlib inline\n",
    "import numpy as np\n",
    "import pandas as pd\n",
    "import plotly.express as px\n",
    "from covid_xprize.standard_predictor.xprize_predictor import NPI_COLUMNS\n",
    "from covid_xprize.scoring.prescriptor_scoring import weight_prescriptions_by_cost\n",
    "from covid_xprize.scoring.prescriptor_scoring import generate_cases_and_stringency_for_prescriptions\n",
    "from covid_xprize.scoring.prescriptor_scoring import compute_domination_df\n",
    "from covid_xprize.scoring.prescriptor_scoring import compute_pareto_set\n",
    "from covid_xprize.validation.prescriptor_validation import validate_submission\n",
    "\n",
    "from covid_xprize.scoring.predictor_scoring import load_dataset\n",
    "from covid_xprize.validation.scenario_generator import generate_scenario"
   ]
  },
  {
   "cell_type": "code",
   "execution_count": 3,
   "metadata": {},
   "outputs": [],
   "source": [
    "%load_ext autoreload\n",
    "%autoreload 2"
   ]
  },
  {
   "cell_type": "code",
   "execution_count": 4,
   "metadata": {},
   "outputs": [],
   "source": [
    "def plot_pareto_curve(objective1_list, objective2_list):\n",
    "    \"\"\"\n",
    "    Plot the pareto curve given the objective values for a set of solutions.\n",
    "    This curve indicates the area dominated by the solution set, i.e., \n",
    "    every point up and to the right is dominated.\n",
    "    \"\"\"\n",
    "    \n",
    "    # Compute pareto set from full solution set.\n",
    "    objective1_pareto, objective2_pareto = compute_pareto_set(objective1_list, \n",
    "                                                              objective2_list)\n",
    "    \n",
    "    # Sort by first objective.\n",
    "    objective1_pareto, objective2_pareto = list(zip(*sorted(zip(objective1_pareto,\n",
    "                                                                objective2_pareto))))\n",
    "    \n",
    "    # Compute the coordinates to plot.\n",
    "    xs = []\n",
    "    ys = []\n",
    "    \n",
    "    xs.append(objective1_pareto[0])\n",
    "    ys.append(objective2_pareto[0])\n",
    "    \n",
    "    for i in range(0, len(objective1_pareto)-1):\n",
    "        \n",
    "        # Add intermediate point between successive solutions\n",
    "        xs.append(objective1_pareto[i+1])\n",
    "        ys.append(objective2_pareto[i])\n",
    "        \n",
    "        # Add next solution on front\n",
    "        xs.append(objective1_pareto[i+1])\n",
    "        ys.append(objective2_pareto[i+1])\n",
    "        \n",
    "    plt.plot(xs, ys)"
   ]
  },
  {
   "cell_type": "markdown",
   "metadata": {},
   "source": [
    "## Reproducir gráfica del pareto para un sólo país\n",
    "\n",
    "En esta celda hacemos todos los cálculos"
   ]
  },
  {
   "cell_type": "code",
   "execution_count": 4,
   "metadata": {},
   "outputs": [
    {
     "name": "stdout",
     "output_type": "stream",
     "text": [
      "Generating prescriptions from 2020-08-01 to 2020-08-05...\n",
      "Done!\n",
      "Generating prescriptions from 2020-08-01 to 2020-08-05...\n",
      "Done!\n",
      "Generating prescriptions from 2020-08-01 to 2020-08-05...\n",
      "Done!\n",
      "Generating predictions for BlindGreedy\n",
      "Generated predictions for PrescriptionIndex 0\n",
      "Generated predictions for PrescriptionIndex 1\n",
      "Generated predictions for PrescriptionIndex 2\n",
      "Generated predictions for PrescriptionIndex 3\n",
      "Generated predictions for PrescriptionIndex 4\n",
      "Generated predictions for PrescriptionIndex 5\n",
      "Generated predictions for PrescriptionIndex 6\n",
      "Generated predictions for PrescriptionIndex 7\n",
      "Generated predictions for PrescriptionIndex 8\n",
      "Generated predictions for PrescriptionIndex 9\n",
      "Evaluated 10 PrescriptionIndex in 00:00:04 seconds\n",
      "Generating predictions for Random1\n",
      "Generated predictions for PrescriptionIndex 0\n",
      "Generated predictions for PrescriptionIndex 1\n",
      "Generated predictions for PrescriptionIndex 2\n",
      "Generated predictions for PrescriptionIndex 3\n",
      "Generated predictions for PrescriptionIndex 4\n",
      "Generated predictions for PrescriptionIndex 5\n",
      "Generated predictions for PrescriptionIndex 6\n",
      "Generated predictions for PrescriptionIndex 7\n",
      "Generated predictions for PrescriptionIndex 8\n",
      "Generated predictions for PrescriptionIndex 9\n",
      "Evaluated 10 PrescriptionIndex in 00:00:03 seconds\n",
      "Generating predictions for Random2\n",
      "Generated predictions for PrescriptionIndex 0\n",
      "Generated predictions for PrescriptionIndex 1\n",
      "Generated predictions for PrescriptionIndex 2\n",
      "Generated predictions for PrescriptionIndex 3\n",
      "Generated predictions for PrescriptionIndex 4\n",
      "Generated predictions for PrescriptionIndex 5\n",
      "Generated predictions for PrescriptionIndex 6\n",
      "Generated predictions for PrescriptionIndex 7\n",
      "Generated predictions for PrescriptionIndex 8\n",
      "Generated predictions for PrescriptionIndex 9\n",
      "Evaluated 10 PrescriptionIndex in 00:00:04 seconds\n"
     ]
    }
   ],
   "source": [
    "# define inicio y fin para las prescripciones\n",
    "START_DATE = \"2020-08-01\"\n",
    "END_DATE = \"2020-08-05\"\n",
    "# Trae los últmos datos y filtra con los paises de la competencia\n",
    "LATEST_DATA_URL = 'https://raw.githubusercontent.com/OxCGRT/covid-policy-tracker/master/data/OxCGRT_latest.csv'\n",
    "GEO_FILE = \"countries_regions.csv\"\n",
    "latest_df = load_dataset(LATEST_DATA_URL, GEO_FILE)\n",
    "# genera y guarda un escenario de prueba\n",
    "IP_FILE = \"prescriptions/robojudge_test_scenario.csv\"\n",
    "countries = [\"Mexico\"]\n",
    "scenario_df = generate_scenario(START_DATE, END_DATE, latest_df, countries, scenario=\"Freeze\")\n",
    "scenario_df.to_csv(IP_FILE, index=False)\n",
    "# Cost weightings for each IP for each geo\n",
    "TEST_COST = \"covid_xprize/validation/data/uniform_random_costs.csv\"\n",
    "# Generate some random prescriptions\n",
    "for i in range(2):\n",
    "    output_file = \"covid_xprize/examples/prescriptors/random/prescriptions/random_presc_\"+ str(i+1) +\".csv\"\n",
    "    !python covid_xprize/examples/prescriptors/random/prescribe.py -s {START_DATE} \\\n",
    "                                                                   -e {END_DATE} \\\n",
    "                                                                   -ip {IP_FILE} \\\n",
    "                                                                   -c {TEST_COST} \\\n",
    "                                                                   -o {output_file}\n",
    "# Generate blind_greedy prescriptions\n",
    "output_file = \"covid_xprize/examples/prescriptors/blind_greedy/prescriptions/blind_greedy.csv\"\n",
    "!python covid_xprize/examples/prescriptors/blind_greedy/prescribe.py -s {START_DATE} \\\n",
    "                                                                     -e {END_DATE} \\\n",
    "                                                                     -ip {IP_FILE} \\\n",
    "                                                                     -c {TEST_COST} \\\n",
    "                                                                     -o {output_file}\n",
    "# Diccionario de archivos con las prescripciones                                                                     \n",
    "prescription_files = {\n",
    "    'Random1': 'covid_xprize/examples/prescriptors/random/prescriptions/random_presc_1.csv',\n",
    "    'Random2': 'covid_xprize/examples/prescriptors/random/prescriptions/random_presc_2.csv',\n",
    "    'BlindGreedy': 'covid_xprize/examples/prescriptors/blind_greedy/prescriptions/blind_greedy.csv',\n",
    "}\n",
    "# Collect case and stringency data for all prescriptors\n",
    "dfs = []\n",
    "for prescriptor_name, prescription_file in sorted(prescription_files.items()):\n",
    "    print(\"Generating predictions for\", prescriptor_name)\n",
    "    df, _ = generate_cases_and_stringency_for_prescriptions(START_DATE, END_DATE, prescription_file, TEST_COST)\n",
    "    df['PrescriptorName'] = prescriptor_name\n",
    "    dfs.append(df)\n",
    "df = pd.concat(dfs)"
   ]
  },
  {
   "cell_type": "markdown",
   "metadata": {},
   "source": [
    "La gráfica tal como viene en el robojudge"
   ]
  },
  {
   "cell_type": "code",
   "execution_count": 19,
   "metadata": {},
   "outputs": [
    {
     "data": {
      "image/png": "[encoded data removed]",
      "image/svg+xml": "<?xml version=\"1.0\" encoding=\"utf-8\" standalone=\"no\"?>\n<!DOCTYPE svg PUBLIC \"-//W3C//DTD SVG 1.1//EN\"\n  \"http://www.w3.org/Graphics/SVG/1.1/DTD/svg11.dtd\">\n<!-- Created with matplotlib (https://matplotlib.org/) -->\n<svg height=\"479.63625pt\" version=\"1.1\" viewBox=\"0 0 623.921524 479.63625\" width=\"623.921524pt\" xmlns=\"http://www.w3.org/2000/svg\" xmlns:xlink=\"http://www.w3.org/1999/xlink\">\n <metadata>\n  <rdf:RDF xmlns:cc=\"http://creativecommons.org/ns#\" xmlns:dc=\"http://purl.org/dc/elements/1.1/\" xmlns:rdf=\"http://www.w3.org/1999/02/22-rdf-syntax-ns#\">\n   <cc:Work>\n    <dc:type rdf:resource=\"http://purl.org/dc/dcmitype/StillImage\"/>\n    <dc:date>2021-01-27T11:14:26.864760</dc:date>\n    <dc:format>image/svg+xml</dc:format>\n    <dc:creator>\n     <cc:Agent>\n      <dc:title>Matplotlib v3.3.2, https://matplotlib.org/</dc:title>\n     </cc:Agent>\n    </dc:creator>\n   </cc:Work>\n  </rdf:RDF>\n </metadata>\n <defs>\n  <style type=\"text/css\">*{stroke-linecap:butt;stroke-linejoin:round;}</style>\n </defs>\n <g id=\"figure_1\">\n  <g id=\"patch_1\">\n   <path d=\"M 0 479.63625 \nL 623.921524 479.63625 \nL 623.921524 0 \nL 0 0 \nz\n\" style=\"fill:none;\"/>\n  </g>\n  <g id=\"axes_1\">\n   <g id=\"patch_2\">\n    <path d=\"M 53.328125 442.08 \nL 611.328125 442.08 \nL 611.328125 7.2 \nL 53.328125 7.2 \nz\n\" style=\"fill:#ffffff;\"/>\n   </g>\n   <g id=\"PathCollection_1\">\n    <defs>\n     <path d=\"M 0 3 \nC 0.795609 3 1.55874 2.683901 2.12132 2.12132 \nC 2.683901 1.55874 3 0.795609 3 0 \nC 3 -0.795609 2.683901 -1.55874 2.12132 -2.12132 \nC 1.55874 -2.683901 0.795609 -3 0 -3 \nC -0.795609 -3 -1.55874 -2.683901 -2.12132 -2.12132 \nC -2.683901 -1.55874 -3 -0.795609 -3 0 \nC -3 0.795609 -2.683901 1.55874 -2.12132 2.12132 \nC -1.55874 2.683901 -0.795609 3 0 3 \nz\n\" id=\"m394c2126ce\" style=\"stroke:#1f77b4;\"/>\n    </defs>\n    <g clip-path=\"url(#p0fcfacccbd)\">\n     <use style=\"fill:#1f77b4;stroke:#1f77b4;\" x=\"324.451553\" xlink:href=\"#m394c2126ce\" y=\"183.581114\"/>\n     <use style=\"fill:#1f77b4;stroke:#1f77b4;\" x=\"310.63395\" xlink:href=\"#m394c2126ce\" y=\"212.656598\"/>\n     <use style=\"fill:#1f77b4;stroke:#1f77b4;\" x=\"364.506474\" xlink:href=\"#m394c2126ce\" y=\"244.914582\"/>\n     <use style=\"fill:#1f77b4;stroke:#1f77b4;\" x=\"370.904509\" xlink:href=\"#m394c2126ce\" y=\"245.669713\"/>\n     <use style=\"fill:#1f77b4;stroke:#1f77b4;\" x=\"336.656207\" xlink:href=\"#m394c2126ce\" y=\"223.050829\"/>\n     <use style=\"fill:#1f77b4;stroke:#1f77b4;\" x=\"291.009726\" xlink:href=\"#m394c2126ce\" y=\"219.309987\"/>\n     <use style=\"fill:#1f77b4;stroke:#1f77b4;\" x=\"324.935438\" xlink:href=\"#m394c2126ce\" y=\"253.072553\"/>\n     <use style=\"fill:#1f77b4;stroke:#1f77b4;\" x=\"363.108585\" xlink:href=\"#m394c2126ce\" y=\"228.972067\"/>\n     <use style=\"fill:#1f77b4;stroke:#1f77b4;\" x=\"304.881095\" xlink:href=\"#m394c2126ce\" y=\"199.505503\"/>\n     <use style=\"fill:#1f77b4;stroke:#1f77b4;\" x=\"293.751741\" xlink:href=\"#m394c2126ce\" y=\"170.04212\"/>\n    </g>\n   </g>\n   <g id=\"PathCollection_2\">\n    <defs>\n     <path d=\"M 0 3 \nC 0.795609 3 1.55874 2.683901 2.12132 2.12132 \nC 2.683901 1.55874 3 0.795609 3 0 \nC 3 -0.795609 2.683901 -1.55874 2.12132 -2.12132 \nC 1.55874 -2.683901 0.795609 -3 0 -3 \nC -0.795609 -3 -1.55874 -2.683901 -2.12132 -2.12132 \nC -2.683901 -1.55874 -3 -0.795609 -3 0 \nC -3 0.795609 -2.683901 1.55874 -2.12132 2.12132 \nC -1.55874 2.683901 -0.795609 3 0 3 \nz\n\" id=\"mac85f8ea4f\" style=\"stroke:#ff7f0e;\"/>\n    </defs>\n    <g clip-path=\"url(#p0fcfacccbd)\">\n     <use style=\"fill:#ff7f0e;stroke:#ff7f0e;\" x=\"376.119713\" xlink:href=\"#mac85f8ea4f\" y=\"210.417369\"/>\n     <use style=\"fill:#ff7f0e;stroke:#ff7f0e;\" x=\"318.967524\" xlink:href=\"#mac85f8ea4f\" y=\"220.710911\"/>\n     <use style=\"fill:#ff7f0e;stroke:#ff7f0e;\" x=\"332.677597\" xlink:href=\"#mac85f8ea4f\" y=\"228.090155\"/>\n     <use style=\"fill:#ff7f0e;stroke:#ff7f0e;\" x=\"268.535959\" xlink:href=\"#mac85f8ea4f\" y=\"204.251986\"/>\n     <use style=\"fill:#ff7f0e;stroke:#ff7f0e;\" x=\"273.858693\" xlink:href=\"#mac85f8ea4f\" y=\"218.438012\"/>\n     <use style=\"fill:#ff7f0e;stroke:#ff7f0e;\" x=\"342.839182\" xlink:href=\"#mac85f8ea4f\" y=\"208.073934\"/>\n     <use style=\"fill:#ff7f0e;stroke:#ff7f0e;\" x=\"329.505463\" xlink:href=\"#mac85f8ea4f\" y=\"205.165245\"/>\n     <use style=\"fill:#ff7f0e;stroke:#ff7f0e;\" x=\"391.819092\" xlink:href=\"#mac85f8ea4f\" y=\"261.371623\"/>\n     <use style=\"fill:#ff7f0e;stroke:#ff7f0e;\" x=\"352.032996\" xlink:href=\"#mac85f8ea4f\" y=\"237.682551\"/>\n     <use style=\"fill:#ff7f0e;stroke:#ff7f0e;\" x=\"389.399667\" xlink:href=\"#mac85f8ea4f\" y=\"235.236985\"/>\n    </g>\n   </g>\n   <g id=\"PathCollection_3\">\n    <defs>\n     <path d=\"M 0 3 \nC 0.795609 3 1.55874 2.683901 2.12132 2.12132 \nC 2.683901 1.55874 3 0.795609 3 0 \nC 3 -0.795609 2.683901 -1.55874 2.12132 -2.12132 \nC 1.55874 -2.683901 0.795609 -3 0 -3 \nC -0.795609 -3 -1.55874 -2.683901 -2.12132 -2.12132 \nC -2.683901 -1.55874 -3 -0.795609 -3 0 \nC -3 0.795609 -2.683901 1.55874 -2.12132 2.12132 \nC -1.55874 2.683901 -0.795609 3 0 3 \nz\n\" id=\"m9ddec9efc8\" style=\"stroke:#2ca02c;\"/>\n    </defs>\n    <g clip-path=\"url(#p0fcfacccbd)\">\n     <use style=\"fill:#2ca02c;stroke:#2ca02c;\" x=\"78.691761\" xlink:href=\"#m9ddec9efc8\" y=\"26.967273\"/>\n     <use style=\"fill:#2ca02c;stroke:#2ca02c;\" x=\"108.800159\" xlink:href=\"#m9ddec9efc8\" y=\"94.394258\"/>\n     <use style=\"fill:#2ca02c;stroke:#2ca02c;\" x=\"137.833256\" xlink:href=\"#m9ddec9efc8\" y=\"209.851824\"/>\n     <use style=\"fill:#2ca02c;stroke:#2ca02c;\" x=\"182.995852\" xlink:href=\"#m9ddec9efc8\" y=\"234.050098\"/>\n     <use style=\"fill:#2ca02c;stroke:#2ca02c;\" x=\"244.287946\" xlink:href=\"#m9ddec9efc8\" y=\"355.197816\"/>\n     <use style=\"fill:#2ca02c;stroke:#2ca02c;\" x=\"287.837592\" xlink:href=\"#m9ddec9efc8\" y=\"367.846703\"/>\n     <use style=\"fill:#2ca02c;stroke:#2ca02c;\" x=\"341.602587\" xlink:href=\"#m9ddec9efc8\" y=\"376.815292\"/>\n     <use style=\"fill:#2ca02c;stroke:#2ca02c;\" x=\"427.895404\" xlink:href=\"#m9ddec9efc8\" y=\"401.904846\"/>\n     <use style=\"fill:#2ca02c;stroke:#2ca02c;\" x=\"500.478147\" xlink:href=\"#m9ddec9efc8\" y=\"416.007657\"/>\n     <use style=\"fill:#2ca02c;stroke:#2ca02c;\" x=\"585.964489\" xlink:href=\"#m9ddec9efc8\" y=\"422.312727\"/>\n    </g>\n   </g>\n   <g id=\"matplotlib.axis_1\">\n    <g id=\"xtick_1\">\n     <g id=\"line2d_1\">\n      <defs>\n       <path d=\"M 0 0 \nL 0 3.5 \n\" id=\"me26a4b0527\" style=\"stroke:#000000;stroke-width:0.8;\"/>\n      </defs>\n      <g>\n       <use style=\"stroke:#000000;stroke-width:0.8;\" x=\"67.938762\" xlink:href=\"#me26a4b0527\" y=\"442.08\"/>\n      </g>\n     </g>\n     <g id=\"text_1\">\n      <!-- 0.0 -->\n      <g transform=\"translate(59.9872 456.678438)scale(0.1 -0.1)\">\n       <defs>\n        <path d=\"M 31.78125 66.40625 \nQ 24.171875 66.40625 20.328125 58.90625 \nQ 16.5 51.421875 16.5 36.375 \nQ 16.5 21.390625 20.328125 13.890625 \nQ 24.171875 6.390625 31.78125 6.390625 \nQ 39.453125 6.390625 43.28125 13.890625 \nQ 47.125 21.390625 47.125 36.375 \nQ 47.125 51.421875 43.28125 58.90625 \nQ 39.453125 66.40625 31.78125 66.40625 \nz\nM 31.78125 74.21875 \nQ 44.046875 74.21875 50.515625 64.515625 \nQ 56.984375 54.828125 56.984375 36.375 \nQ 56.984375 17.96875 50.515625 8.265625 \nQ 44.046875 -1.421875 31.78125 -1.421875 \nQ 19.53125 -1.421875 13.0625 8.265625 \nQ 6.59375 17.96875 6.59375 36.375 \nQ 6.59375 54.828125 13.0625 64.515625 \nQ 19.53125 74.21875 31.78125 74.21875 \nz\n\" id=\"DejaVuSans-48\"/>\n        <path d=\"M 10.6875 12.40625 \nL 21 12.40625 \nL 21 0 \nL 10.6875 0 \nz\n\" id=\"DejaVuSans-46\"/>\n       </defs>\n       <use xlink:href=\"#DejaVuSans-48\"/>\n       <use x=\"63.623047\" xlink:href=\"#DejaVuSans-46\"/>\n       <use x=\"95.410156\" xlink:href=\"#DejaVuSans-48\"/>\n      </g>\n     </g>\n    </g>\n    <g id=\"xtick_2\">\n     <g id=\"line2d_2\">\n      <g>\n       <use style=\"stroke:#000000;stroke-width:0.8;\" x=\"135.145006\" xlink:href=\"#me26a4b0527\" y=\"442.08\"/>\n      </g>\n     </g>\n     <g id=\"text_2\">\n      <!-- 2.5 -->\n      <g transform=\"translate(127.193444 456.678438)scale(0.1 -0.1)\">\n       <defs>\n        <path d=\"M 19.1875 8.296875 \nL 53.609375 8.296875 \nL 53.609375 0 \nL 7.328125 0 \nL 7.328125 8.296875 \nQ 12.9375 14.109375 22.625 23.890625 \nQ 32.328125 33.6875 34.8125 36.53125 \nQ 39.546875 41.84375 41.421875 45.53125 \nQ 43.3125 49.21875 43.3125 52.78125 \nQ 43.3125 58.59375 39.234375 62.25 \nQ 35.15625 65.921875 28.609375 65.921875 \nQ 23.96875 65.921875 18.8125 64.3125 \nQ 13.671875 62.703125 7.8125 59.421875 \nL 7.8125 69.390625 \nQ 13.765625 71.78125 18.9375 73 \nQ 24.125 74.21875 28.421875 74.21875 \nQ 39.75 74.21875 46.484375 68.546875 \nQ 53.21875 62.890625 53.21875 53.421875 \nQ 53.21875 48.921875 51.53125 44.890625 \nQ 49.859375 40.875 45.40625 35.40625 \nQ 44.1875 33.984375 37.640625 27.21875 \nQ 31.109375 20.453125 19.1875 8.296875 \nz\n\" id=\"DejaVuSans-50\"/>\n        <path d=\"M 10.796875 72.90625 \nL 49.515625 72.90625 \nL 49.515625 64.59375 \nL 19.828125 64.59375 \nL 19.828125 46.734375 \nQ 21.96875 47.46875 24.109375 47.828125 \nQ 26.265625 48.1875 28.421875 48.1875 \nQ 40.625 48.1875 47.75 41.5 \nQ 54.890625 34.8125 54.890625 23.390625 \nQ 54.890625 11.625 47.5625 5.09375 \nQ 40.234375 -1.421875 26.90625 -1.421875 \nQ 22.3125 -1.421875 17.546875 -0.640625 \nQ 12.796875 0.140625 7.71875 1.703125 \nL 7.71875 11.625 \nQ 12.109375 9.234375 16.796875 8.0625 \nQ 21.484375 6.890625 26.703125 6.890625 \nQ 35.15625 6.890625 40.078125 11.328125 \nQ 45.015625 15.765625 45.015625 23.390625 \nQ 45.015625 31 40.078125 35.4375 \nQ 35.15625 39.890625 26.703125 39.890625 \nQ 22.75 39.890625 18.8125 39.015625 \nQ 14.890625 38.140625 10.796875 36.28125 \nz\n\" id=\"DejaVuSans-53\"/>\n       </defs>\n       <use xlink:href=\"#DejaVuSans-50\"/>\n       <use x=\"63.623047\" xlink:href=\"#DejaVuSans-46\"/>\n       <use x=\"95.410156\" xlink:href=\"#DejaVuSans-53\"/>\n      </g>\n     </g>\n    </g>\n    <g id=\"xtick_3\">\n     <g id=\"line2d_3\">\n      <g>\n       <use style=\"stroke:#000000;stroke-width:0.8;\" x=\"202.35125\" xlink:href=\"#me26a4b0527\" y=\"442.08\"/>\n      </g>\n     </g>\n     <g id=\"text_3\">\n      <!-- 5.0 -->\n      <g transform=\"translate(194.399687 456.678438)scale(0.1 -0.1)\">\n       <use xlink:href=\"#DejaVuSans-53\"/>\n       <use x=\"63.623047\" xlink:href=\"#DejaVuSans-46\"/>\n       <use x=\"95.410156\" xlink:href=\"#DejaVuSans-48\"/>\n      </g>\n     </g>\n    </g>\n    <g id=\"xtick_4\">\n     <g id=\"line2d_4\">\n      <g>\n       <use style=\"stroke:#000000;stroke-width:0.8;\" x=\"269.557493\" xlink:href=\"#me26a4b0527\" y=\"442.08\"/>\n      </g>\n     </g>\n     <g id=\"text_4\">\n      <!-- 7.5 -->\n      <g transform=\"translate(261.605931 456.678438)scale(0.1 -0.1)\">\n       <defs>\n        <path d=\"M 8.203125 72.90625 \nL 55.078125 72.90625 \nL 55.078125 68.703125 \nL 28.609375 0 \nL 18.3125 0 \nL 43.21875 64.59375 \nL 8.203125 64.59375 \nz\n\" id=\"DejaVuSans-55\"/>\n       </defs>\n       <use xlink:href=\"#DejaVuSans-55\"/>\n       <use x=\"63.623047\" xlink:href=\"#DejaVuSans-46\"/>\n       <use x=\"95.410156\" xlink:href=\"#DejaVuSans-53\"/>\n      </g>\n     </g>\n    </g>\n    <g id=\"xtick_5\">\n     <g id=\"line2d_5\">\n      <g>\n       <use style=\"stroke:#000000;stroke-width:0.8;\" x=\"336.763737\" xlink:href=\"#me26a4b0527\" y=\"442.08\"/>\n      </g>\n     </g>\n     <g id=\"text_5\">\n      <!-- 10.0 -->\n      <g transform=\"translate(325.630925 456.678438)scale(0.1 -0.1)\">\n       <defs>\n        <path d=\"M 12.40625 8.296875 \nL 28.515625 8.296875 \nL 28.515625 63.921875 \nL 10.984375 60.40625 \nL 10.984375 69.390625 \nL 28.421875 72.90625 \nL 38.28125 72.90625 \nL 38.28125 8.296875 \nL 54.390625 8.296875 \nL 54.390625 0 \nL 12.40625 0 \nz\n\" id=\"DejaVuSans-49\"/>\n       </defs>\n       <use xlink:href=\"#DejaVuSans-49\"/>\n       <use x=\"63.623047\" xlink:href=\"#DejaVuSans-48\"/>\n       <use x=\"127.246094\" xlink:href=\"#DejaVuSans-46\"/>\n       <use x=\"159.033203\" xlink:href=\"#DejaVuSans-48\"/>\n      </g>\n     </g>\n    </g>\n    <g id=\"xtick_6\">\n     <g id=\"line2d_6\">\n      <g>\n       <use style=\"stroke:#000000;stroke-width:0.8;\" x=\"403.969981\" xlink:href=\"#me26a4b0527\" y=\"442.08\"/>\n      </g>\n     </g>\n     <g id=\"text_6\">\n      <!-- 12.5 -->\n      <g transform=\"translate(392.837168 456.678438)scale(0.1 -0.1)\">\n       <use xlink:href=\"#DejaVuSans-49\"/>\n       <use x=\"63.623047\" xlink:href=\"#DejaVuSans-50\"/>\n       <use x=\"127.246094\" xlink:href=\"#DejaVuSans-46\"/>\n       <use x=\"159.033203\" xlink:href=\"#DejaVuSans-53\"/>\n      </g>\n     </g>\n    </g>\n    <g id=\"xtick_7\">\n     <g id=\"line2d_7\">\n      <g>\n       <use style=\"stroke:#000000;stroke-width:0.8;\" x=\"471.176224\" xlink:href=\"#me26a4b0527\" y=\"442.08\"/>\n      </g>\n     </g>\n     <g id=\"text_7\">\n      <!-- 15.0 -->\n      <g transform=\"translate(460.043412 456.678438)scale(0.1 -0.1)\">\n       <use xlink:href=\"#DejaVuSans-49\"/>\n       <use x=\"63.623047\" xlink:href=\"#DejaVuSans-53\"/>\n       <use x=\"127.246094\" xlink:href=\"#DejaVuSans-46\"/>\n       <use x=\"159.033203\" xlink:href=\"#DejaVuSans-48\"/>\n      </g>\n     </g>\n    </g>\n    <g id=\"xtick_8\">\n     <g id=\"line2d_8\">\n      <g>\n       <use style=\"stroke:#000000;stroke-width:0.8;\" x=\"538.382468\" xlink:href=\"#me26a4b0527\" y=\"442.08\"/>\n      </g>\n     </g>\n     <g id=\"text_8\">\n      <!-- 17.5 -->\n      <g transform=\"translate(527.249656 456.678438)scale(0.1 -0.1)\">\n       <use xlink:href=\"#DejaVuSans-49\"/>\n       <use x=\"63.623047\" xlink:href=\"#DejaVuSans-55\"/>\n       <use x=\"127.246094\" xlink:href=\"#DejaVuSans-46\"/>\n       <use x=\"159.033203\" xlink:href=\"#DejaVuSans-53\"/>\n      </g>\n     </g>\n    </g>\n    <g id=\"xtick_9\">\n     <g id=\"line2d_9\">\n      <g>\n       <use style=\"stroke:#000000;stroke-width:0.8;\" x=\"605.588712\" xlink:href=\"#me26a4b0527\" y=\"442.08\"/>\n      </g>\n     </g>\n     <g id=\"text_9\">\n      <!-- 20.0 -->\n      <g transform=\"translate(594.455899 456.678438)scale(0.1 -0.1)\">\n       <use xlink:href=\"#DejaVuSans-50\"/>\n       <use x=\"63.623047\" xlink:href=\"#DejaVuSans-48\"/>\n       <use x=\"127.246094\" xlink:href=\"#DejaVuSans-46\"/>\n       <use x=\"159.033203\" xlink:href=\"#DejaVuSans-48\"/>\n      </g>\n     </g>\n    </g>\n    <g id=\"text_10\">\n     <!-- Mean stringency -->\n     <g transform=\"translate(290.809375 470.356562)scale(0.1 -0.1)\">\n      <defs>\n       <path d=\"M 9.8125 72.90625 \nL 24.515625 72.90625 \nL 43.109375 23.296875 \nL 61.8125 72.90625 \nL 76.515625 72.90625 \nL 76.515625 0 \nL 66.890625 0 \nL 66.890625 64.015625 \nL 48.09375 14.015625 \nL 38.1875 14.015625 \nL 19.390625 64.015625 \nL 19.390625 0 \nL 9.8125 0 \nz\n\" id=\"DejaVuSans-77\"/>\n       <path d=\"M 56.203125 29.59375 \nL 56.203125 25.203125 \nL 14.890625 25.203125 \nQ 15.484375 15.921875 20.484375 11.0625 \nQ 25.484375 6.203125 34.421875 6.203125 \nQ 39.59375 6.203125 44.453125 7.46875 \nQ 49.3125 8.734375 54.109375 11.28125 \nL 54.109375 2.78125 \nQ 49.265625 0.734375 44.1875 -0.34375 \nQ 39.109375 -1.421875 33.890625 -1.421875 \nQ 20.796875 -1.421875 13.15625 6.1875 \nQ 5.515625 13.8125 5.515625 26.8125 \nQ 5.515625 40.234375 12.765625 48.109375 \nQ 20.015625 56 32.328125 56 \nQ 43.359375 56 49.78125 48.890625 \nQ 56.203125 41.796875 56.203125 29.59375 \nz\nM 47.21875 32.234375 \nQ 47.125 39.59375 43.09375 43.984375 \nQ 39.0625 48.390625 32.421875 48.390625 \nQ 24.90625 48.390625 20.390625 44.140625 \nQ 15.875 39.890625 15.1875 32.171875 \nz\n\" id=\"DejaVuSans-101\"/>\n       <path d=\"M 34.28125 27.484375 \nQ 23.390625 27.484375 19.1875 25 \nQ 14.984375 22.515625 14.984375 16.5 \nQ 14.984375 11.71875 18.140625 8.90625 \nQ 21.296875 6.109375 26.703125 6.109375 \nQ 34.1875 6.109375 38.703125 11.40625 \nQ 43.21875 16.703125 43.21875 25.484375 \nL 43.21875 27.484375 \nz\nM 52.203125 31.203125 \nL 52.203125 0 \nL 43.21875 0 \nL 43.21875 8.296875 \nQ 40.140625 3.328125 35.546875 0.953125 \nQ 30.953125 -1.421875 24.3125 -1.421875 \nQ 15.921875 -1.421875 10.953125 3.296875 \nQ 6 8.015625 6 15.921875 \nQ 6 25.140625 12.171875 29.828125 \nQ 18.359375 34.515625 30.609375 34.515625 \nL 43.21875 34.515625 \nL 43.21875 35.40625 \nQ 43.21875 41.609375 39.140625 45 \nQ 35.0625 48.390625 27.6875 48.390625 \nQ 23 48.390625 18.546875 47.265625 \nQ 14.109375 46.140625 10.015625 43.890625 \nL 10.015625 52.203125 \nQ 14.9375 54.109375 19.578125 55.046875 \nQ 24.21875 56 28.609375 56 \nQ 40.484375 56 46.34375 49.84375 \nQ 52.203125 43.703125 52.203125 31.203125 \nz\n\" id=\"DejaVuSans-97\"/>\n       <path d=\"M 54.890625 33.015625 \nL 54.890625 0 \nL 45.90625 0 \nL 45.90625 32.71875 \nQ 45.90625 40.484375 42.875 44.328125 \nQ 39.84375 48.1875 33.796875 48.1875 \nQ 26.515625 48.1875 22.3125 43.546875 \nQ 18.109375 38.921875 18.109375 30.90625 \nL 18.109375 0 \nL 9.078125 0 \nL 9.078125 54.6875 \nL 18.109375 54.6875 \nL 18.109375 46.1875 \nQ 21.34375 51.125 25.703125 53.5625 \nQ 30.078125 56 35.796875 56 \nQ 45.21875 56 50.046875 50.171875 \nQ 54.890625 44.34375 54.890625 33.015625 \nz\n\" id=\"DejaVuSans-110\"/>\n       <path id=\"DejaVuSans-32\"/>\n       <path d=\"M 44.28125 53.078125 \nL 44.28125 44.578125 \nQ 40.484375 46.53125 36.375 47.5 \nQ 32.28125 48.484375 27.875 48.484375 \nQ 21.1875 48.484375 17.84375 46.4375 \nQ 14.5 44.390625 14.5 40.28125 \nQ 14.5 37.15625 16.890625 35.375 \nQ 19.28125 33.59375 26.515625 31.984375 \nL 29.59375 31.296875 \nQ 39.15625 29.25 43.1875 25.515625 \nQ 47.21875 21.78125 47.21875 15.09375 \nQ 47.21875 7.46875 41.1875 3.015625 \nQ 35.15625 -1.421875 24.609375 -1.421875 \nQ 20.21875 -1.421875 15.453125 -0.5625 \nQ 10.6875 0.296875 5.421875 2 \nL 5.421875 11.28125 \nQ 10.40625 8.6875 15.234375 7.390625 \nQ 20.0625 6.109375 24.8125 6.109375 \nQ 31.15625 6.109375 34.5625 8.28125 \nQ 37.984375 10.453125 37.984375 14.40625 \nQ 37.984375 18.0625 35.515625 20.015625 \nQ 33.0625 21.96875 24.703125 23.78125 \nL 21.578125 24.515625 \nQ 13.234375 26.265625 9.515625 29.90625 \nQ 5.8125 33.546875 5.8125 39.890625 \nQ 5.8125 47.609375 11.28125 51.796875 \nQ 16.75 56 26.8125 56 \nQ 31.78125 56 36.171875 55.265625 \nQ 40.578125 54.546875 44.28125 53.078125 \nz\n\" id=\"DejaVuSans-115\"/>\n       <path d=\"M 18.3125 70.21875 \nL 18.3125 54.6875 \nL 36.8125 54.6875 \nL 36.8125 47.703125 \nL 18.3125 47.703125 \nL 18.3125 18.015625 \nQ 18.3125 11.328125 20.140625 9.421875 \nQ 21.96875 7.515625 27.59375 7.515625 \nL 36.8125 7.515625 \nL 36.8125 0 \nL 27.59375 0 \nQ 17.1875 0 13.234375 3.875 \nQ 9.28125 7.765625 9.28125 18.015625 \nL 9.28125 47.703125 \nL 2.6875 47.703125 \nL 2.6875 54.6875 \nL 9.28125 54.6875 \nL 9.28125 70.21875 \nz\n\" id=\"DejaVuSans-116\"/>\n       <path d=\"M 41.109375 46.296875 \nQ 39.59375 47.171875 37.8125 47.578125 \nQ 36.03125 48 33.890625 48 \nQ 26.265625 48 22.1875 43.046875 \nQ 18.109375 38.09375 18.109375 28.8125 \nL 18.109375 0 \nL 9.078125 0 \nL 9.078125 54.6875 \nL 18.109375 54.6875 \nL 18.109375 46.1875 \nQ 20.953125 51.171875 25.484375 53.578125 \nQ 30.03125 56 36.53125 56 \nQ 37.453125 56 38.578125 55.875 \nQ 39.703125 55.765625 41.0625 55.515625 \nz\n\" id=\"DejaVuSans-114\"/>\n       <path d=\"M 9.421875 54.6875 \nL 18.40625 54.6875 \nL 18.40625 0 \nL 9.421875 0 \nz\nM 9.421875 75.984375 \nL 18.40625 75.984375 \nL 18.40625 64.59375 \nL 9.421875 64.59375 \nz\n\" id=\"DejaVuSans-105\"/>\n       <path d=\"M 45.40625 27.984375 \nQ 45.40625 37.75 41.375 43.109375 \nQ 37.359375 48.484375 30.078125 48.484375 \nQ 22.859375 48.484375 18.828125 43.109375 \nQ 14.796875 37.75 14.796875 27.984375 \nQ 14.796875 18.265625 18.828125 12.890625 \nQ 22.859375 7.515625 30.078125 7.515625 \nQ 37.359375 7.515625 41.375 12.890625 \nQ 45.40625 18.265625 45.40625 27.984375 \nz\nM 54.390625 6.78125 \nQ 54.390625 -7.171875 48.1875 -13.984375 \nQ 42 -20.796875 29.203125 -20.796875 \nQ 24.46875 -20.796875 20.265625 -20.09375 \nQ 16.0625 -19.390625 12.109375 -17.921875 \nL 12.109375 -9.1875 \nQ 16.0625 -11.328125 19.921875 -12.34375 \nQ 23.78125 -13.375 27.78125 -13.375 \nQ 36.625 -13.375 41.015625 -8.765625 \nQ 45.40625 -4.15625 45.40625 5.171875 \nL 45.40625 9.625 \nQ 42.625 4.78125 38.28125 2.390625 \nQ 33.9375 0 27.875 0 \nQ 17.828125 0 11.671875 7.65625 \nQ 5.515625 15.328125 5.515625 27.984375 \nQ 5.515625 40.671875 11.671875 48.328125 \nQ 17.828125 56 27.875 56 \nQ 33.9375 56 38.28125 53.609375 \nQ 42.625 51.21875 45.40625 46.390625 \nL 45.40625 54.6875 \nL 54.390625 54.6875 \nz\n\" id=\"DejaVuSans-103\"/>\n       <path d=\"M 48.78125 52.59375 \nL 48.78125 44.1875 \nQ 44.96875 46.296875 41.140625 47.34375 \nQ 37.3125 48.390625 33.40625 48.390625 \nQ 24.65625 48.390625 19.8125 42.84375 \nQ 14.984375 37.3125 14.984375 27.296875 \nQ 14.984375 17.28125 19.8125 11.734375 \nQ 24.65625 6.203125 33.40625 6.203125 \nQ 37.3125 6.203125 41.140625 7.25 \nQ 44.96875 8.296875 48.78125 10.40625 \nL 48.78125 2.09375 \nQ 45.015625 0.34375 40.984375 -0.53125 \nQ 36.96875 -1.421875 32.421875 -1.421875 \nQ 20.0625 -1.421875 12.78125 6.34375 \nQ 5.515625 14.109375 5.515625 27.296875 \nQ 5.515625 40.671875 12.859375 48.328125 \nQ 20.21875 56 33.015625 56 \nQ 37.15625 56 41.109375 55.140625 \nQ 45.0625 54.296875 48.78125 52.59375 \nz\n\" id=\"DejaVuSans-99\"/>\n       <path d=\"M 32.171875 -5.078125 \nQ 28.375 -14.84375 24.75 -17.8125 \nQ 21.140625 -20.796875 15.09375 -20.796875 \nL 7.90625 -20.796875 \nL 7.90625 -13.28125 \nL 13.1875 -13.28125 \nQ 16.890625 -13.28125 18.9375 -11.515625 \nQ 21 -9.765625 23.484375 -3.21875 \nL 25.09375 0.875 \nL 2.984375 54.6875 \nL 12.5 54.6875 \nL 29.59375 11.921875 \nL 46.6875 54.6875 \nL 56.203125 54.6875 \nz\n\" id=\"DejaVuSans-121\"/>\n      </defs>\n      <use xlink:href=\"#DejaVuSans-77\"/>\n      <use x=\"86.279297\" xlink:href=\"#DejaVuSans-101\"/>\n      <use x=\"147.802734\" xlink:href=\"#DejaVuSans-97\"/>\n      <use x=\"209.082031\" xlink:href=\"#DejaVuSans-110\"/>\n      <use x=\"272.460938\" xlink:href=\"#DejaVuSans-32\"/>\n      <use x=\"304.248047\" xlink:href=\"#DejaVuSans-115\"/>\n      <use x=\"356.347656\" xlink:href=\"#DejaVuSans-116\"/>\n      <use x=\"395.556641\" xlink:href=\"#DejaVuSans-114\"/>\n      <use x=\"436.669922\" xlink:href=\"#DejaVuSans-105\"/>\n      <use x=\"464.453125\" xlink:href=\"#DejaVuSans-110\"/>\n      <use x=\"527.832031\" xlink:href=\"#DejaVuSans-103\"/>\n      <use x=\"591.308594\" xlink:href=\"#DejaVuSans-101\"/>\n      <use x=\"652.832031\" xlink:href=\"#DejaVuSans-110\"/>\n      <use x=\"716.210938\" xlink:href=\"#DejaVuSans-99\"/>\n      <use x=\"771.191406\" xlink:href=\"#DejaVuSans-121\"/>\n     </g>\n    </g>\n   </g>\n   <g id=\"matplotlib.axis_2\">\n    <g id=\"ytick_1\">\n     <g id=\"line2d_10\">\n      <defs>\n       <path d=\"M 0 0 \nL -3.5 0 \n\" id=\"m53e16a005a\" style=\"stroke:#000000;stroke-width:0.8;\"/>\n      </defs>\n      <g>\n       <use style=\"stroke:#000000;stroke-width:0.8;\" x=\"53.328125\" xlink:href=\"#m53e16a005a\" y=\"393.343251\"/>\n      </g>\n     </g>\n     <g id=\"text_11\">\n      <!-- 8200 -->\n      <g transform=\"translate(20.878125 397.14247)scale(0.1 -0.1)\">\n       <defs>\n        <path d=\"M 31.78125 34.625 \nQ 24.75 34.625 20.71875 30.859375 \nQ 16.703125 27.09375 16.703125 20.515625 \nQ 16.703125 13.921875 20.71875 10.15625 \nQ 24.75 6.390625 31.78125 6.390625 \nQ 38.8125 6.390625 42.859375 10.171875 \nQ 46.921875 13.96875 46.921875 20.515625 \nQ 46.921875 27.09375 42.890625 30.859375 \nQ 38.875 34.625 31.78125 34.625 \nz\nM 21.921875 38.8125 \nQ 15.578125 40.375 12.03125 44.71875 \nQ 8.5 49.078125 8.5 55.328125 \nQ 8.5 64.0625 14.71875 69.140625 \nQ 20.953125 74.21875 31.78125 74.21875 \nQ 42.671875 74.21875 48.875 69.140625 \nQ 55.078125 64.0625 55.078125 55.328125 \nQ 55.078125 49.078125 51.53125 44.71875 \nQ 48 40.375 41.703125 38.8125 \nQ 48.828125 37.15625 52.796875 32.3125 \nQ 56.78125 27.484375 56.78125 20.515625 \nQ 56.78125 9.90625 50.3125 4.234375 \nQ 43.84375 -1.421875 31.78125 -1.421875 \nQ 19.734375 -1.421875 13.25 4.234375 \nQ 6.78125 9.90625 6.78125 20.515625 \nQ 6.78125 27.484375 10.78125 32.3125 \nQ 14.796875 37.15625 21.921875 38.8125 \nz\nM 18.3125 54.390625 \nQ 18.3125 48.734375 21.84375 45.5625 \nQ 25.390625 42.390625 31.78125 42.390625 \nQ 38.140625 42.390625 41.71875 45.5625 \nQ 45.3125 48.734375 45.3125 54.390625 \nQ 45.3125 60.0625 41.71875 63.234375 \nQ 38.140625 66.40625 31.78125 66.40625 \nQ 25.390625 66.40625 21.84375 63.234375 \nQ 18.3125 60.0625 18.3125 54.390625 \nz\n\" id=\"DejaVuSans-56\"/>\n       </defs>\n       <use xlink:href=\"#DejaVuSans-56\"/>\n       <use x=\"63.623047\" xlink:href=\"#DejaVuSans-50\"/>\n       <use x=\"127.246094\" xlink:href=\"#DejaVuSans-48\"/>\n       <use x=\"190.869141\" xlink:href=\"#DejaVuSans-48\"/>\n      </g>\n     </g>\n    </g>\n    <g id=\"ytick_2\">\n     <g id=\"line2d_11\">\n      <g>\n       <use style=\"stroke:#000000;stroke-width:0.8;\" x=\"53.328125\" xlink:href=\"#m53e16a005a\" y=\"326.404208\"/>\n      </g>\n     </g>\n     <g id=\"text_12\">\n      <!-- 8400 -->\n      <g transform=\"translate(20.878125 330.203427)scale(0.1 -0.1)\">\n       <defs>\n        <path d=\"M 37.796875 64.3125 \nL 12.890625 25.390625 \nL 37.796875 25.390625 \nz\nM 35.203125 72.90625 \nL 47.609375 72.90625 \nL 47.609375 25.390625 \nL 58.015625 25.390625 \nL 58.015625 17.1875 \nL 47.609375 17.1875 \nL 47.609375 0 \nL 37.796875 0 \nL 37.796875 17.1875 \nL 4.890625 17.1875 \nL 4.890625 26.703125 \nz\n\" id=\"DejaVuSans-52\"/>\n       </defs>\n       <use xlink:href=\"#DejaVuSans-56\"/>\n       <use x=\"63.623047\" xlink:href=\"#DejaVuSans-52\"/>\n       <use x=\"127.246094\" xlink:href=\"#DejaVuSans-48\"/>\n       <use x=\"190.869141\" xlink:href=\"#DejaVuSans-48\"/>\n      </g>\n     </g>\n    </g>\n    <g id=\"ytick_3\">\n     <g id=\"line2d_12\">\n      <g>\n       <use style=\"stroke:#000000;stroke-width:0.8;\" x=\"53.328125\" xlink:href=\"#m53e16a005a\" y=\"259.465166\"/>\n      </g>\n     </g>\n     <g id=\"text_13\">\n      <!-- 8600 -->\n      <g transform=\"translate(20.878125 263.264385)scale(0.1 -0.1)\">\n       <defs>\n        <path d=\"M 33.015625 40.375 \nQ 26.375 40.375 22.484375 35.828125 \nQ 18.609375 31.296875 18.609375 23.390625 \nQ 18.609375 15.53125 22.484375 10.953125 \nQ 26.375 6.390625 33.015625 6.390625 \nQ 39.65625 6.390625 43.53125 10.953125 \nQ 47.40625 15.53125 47.40625 23.390625 \nQ 47.40625 31.296875 43.53125 35.828125 \nQ 39.65625 40.375 33.015625 40.375 \nz\nM 52.59375 71.296875 \nL 52.59375 62.3125 \nQ 48.875 64.0625 45.09375 64.984375 \nQ 41.3125 65.921875 37.59375 65.921875 \nQ 27.828125 65.921875 22.671875 59.328125 \nQ 17.53125 52.734375 16.796875 39.40625 \nQ 19.671875 43.65625 24.015625 45.921875 \nQ 28.375 48.1875 33.59375 48.1875 \nQ 44.578125 48.1875 50.953125 41.515625 \nQ 57.328125 34.859375 57.328125 23.390625 \nQ 57.328125 12.15625 50.6875 5.359375 \nQ 44.046875 -1.421875 33.015625 -1.421875 \nQ 20.359375 -1.421875 13.671875 8.265625 \nQ 6.984375 17.96875 6.984375 36.375 \nQ 6.984375 53.65625 15.1875 63.9375 \nQ 23.390625 74.21875 37.203125 74.21875 \nQ 40.921875 74.21875 44.703125 73.484375 \nQ 48.484375 72.75 52.59375 71.296875 \nz\n\" id=\"DejaVuSans-54\"/>\n       </defs>\n       <use xlink:href=\"#DejaVuSans-56\"/>\n       <use x=\"63.623047\" xlink:href=\"#DejaVuSans-54\"/>\n       <use x=\"127.246094\" xlink:href=\"#DejaVuSans-48\"/>\n       <use x=\"190.869141\" xlink:href=\"#DejaVuSans-48\"/>\n      </g>\n     </g>\n    </g>\n    <g id=\"ytick_4\">\n     <g id=\"line2d_13\">\n      <g>\n       <use style=\"stroke:#000000;stroke-width:0.8;\" x=\"53.328125\" xlink:href=\"#m53e16a005a\" y=\"192.526124\"/>\n      </g>\n     </g>\n     <g id=\"text_14\">\n      <!-- 8800 -->\n      <g transform=\"translate(20.878125 196.325342)scale(0.1 -0.1)\">\n       <use xlink:href=\"#DejaVuSans-56\"/>\n       <use x=\"63.623047\" xlink:href=\"#DejaVuSans-56\"/>\n       <use x=\"127.246094\" xlink:href=\"#DejaVuSans-48\"/>\n       <use x=\"190.869141\" xlink:href=\"#DejaVuSans-48\"/>\n      </g>\n     </g>\n    </g>\n    <g id=\"ytick_5\">\n     <g id=\"line2d_14\">\n      <g>\n       <use style=\"stroke:#000000;stroke-width:0.8;\" x=\"53.328125\" xlink:href=\"#m53e16a005a\" y=\"125.587081\"/>\n      </g>\n     </g>\n     <g id=\"text_15\">\n      <!-- 9000 -->\n      <g transform=\"translate(20.878125 129.3863)scale(0.1 -0.1)\">\n       <defs>\n        <path d=\"M 10.984375 1.515625 \nL 10.984375 10.5 \nQ 14.703125 8.734375 18.5 7.8125 \nQ 22.3125 6.890625 25.984375 6.890625 \nQ 35.75 6.890625 40.890625 13.453125 \nQ 46.046875 20.015625 46.78125 33.40625 \nQ 43.953125 29.203125 39.59375 26.953125 \nQ 35.25 24.703125 29.984375 24.703125 \nQ 19.046875 24.703125 12.671875 31.3125 \nQ 6.296875 37.9375 6.296875 49.421875 \nQ 6.296875 60.640625 12.9375 67.421875 \nQ 19.578125 74.21875 30.609375 74.21875 \nQ 43.265625 74.21875 49.921875 64.515625 \nQ 56.59375 54.828125 56.59375 36.375 \nQ 56.59375 19.140625 48.40625 8.859375 \nQ 40.234375 -1.421875 26.421875 -1.421875 \nQ 22.703125 -1.421875 18.890625 -0.6875 \nQ 15.09375 0.046875 10.984375 1.515625 \nz\nM 30.609375 32.421875 \nQ 37.25 32.421875 41.125 36.953125 \nQ 45.015625 41.5 45.015625 49.421875 \nQ 45.015625 57.28125 41.125 61.84375 \nQ 37.25 66.40625 30.609375 66.40625 \nQ 23.96875 66.40625 20.09375 61.84375 \nQ 16.21875 57.28125 16.21875 49.421875 \nQ 16.21875 41.5 20.09375 36.953125 \nQ 23.96875 32.421875 30.609375 32.421875 \nz\n\" id=\"DejaVuSans-57\"/>\n       </defs>\n       <use xlink:href=\"#DejaVuSans-57\"/>\n       <use x=\"63.623047\" xlink:href=\"#DejaVuSans-48\"/>\n       <use x=\"127.246094\" xlink:href=\"#DejaVuSans-48\"/>\n       <use x=\"190.869141\" xlink:href=\"#DejaVuSans-48\"/>\n      </g>\n     </g>\n    </g>\n    <g id=\"ytick_6\">\n     <g id=\"line2d_15\">\n      <g>\n       <use style=\"stroke:#000000;stroke-width:0.8;\" x=\"53.328125\" xlink:href=\"#m53e16a005a\" y=\"58.648039\"/>\n      </g>\n     </g>\n     <g id=\"text_16\">\n      <!-- 9200 -->\n      <g transform=\"translate(20.878125 62.447258)scale(0.1 -0.1)\">\n       <use xlink:href=\"#DejaVuSans-57\"/>\n       <use x=\"63.623047\" xlink:href=\"#DejaVuSans-50\"/>\n       <use x=\"127.246094\" xlink:href=\"#DejaVuSans-48\"/>\n       <use x=\"190.869141\" xlink:href=\"#DejaVuSans-48\"/>\n      </g>\n     </g>\n    </g>\n    <g id=\"text_17\">\n     <!-- Mean cases per day per geo -->\n     <g transform=\"translate(14.798438 295.428281)rotate(-90)scale(0.1 -0.1)\">\n      <defs>\n       <path d=\"M 18.109375 8.203125 \nL 18.109375 -20.796875 \nL 9.078125 -20.796875 \nL 9.078125 54.6875 \nL 18.109375 54.6875 \nL 18.109375 46.390625 \nQ 20.953125 51.265625 25.265625 53.625 \nQ 29.59375 56 35.59375 56 \nQ 45.5625 56 51.78125 48.09375 \nQ 58.015625 40.1875 58.015625 27.296875 \nQ 58.015625 14.40625 51.78125 6.484375 \nQ 45.5625 -1.421875 35.59375 -1.421875 \nQ 29.59375 -1.421875 25.265625 0.953125 \nQ 20.953125 3.328125 18.109375 8.203125 \nz\nM 48.6875 27.296875 \nQ 48.6875 37.203125 44.609375 42.84375 \nQ 40.53125 48.484375 33.40625 48.484375 \nQ 26.265625 48.484375 22.1875 42.84375 \nQ 18.109375 37.203125 18.109375 27.296875 \nQ 18.109375 17.390625 22.1875 11.75 \nQ 26.265625 6.109375 33.40625 6.109375 \nQ 40.53125 6.109375 44.609375 11.75 \nQ 48.6875 17.390625 48.6875 27.296875 \nz\n\" id=\"DejaVuSans-112\"/>\n       <path d=\"M 45.40625 46.390625 \nL 45.40625 75.984375 \nL 54.390625 75.984375 \nL 54.390625 0 \nL 45.40625 0 \nL 45.40625 8.203125 \nQ 42.578125 3.328125 38.25 0.953125 \nQ 33.9375 -1.421875 27.875 -1.421875 \nQ 17.96875 -1.421875 11.734375 6.484375 \nQ 5.515625 14.40625 5.515625 27.296875 \nQ 5.515625 40.1875 11.734375 48.09375 \nQ 17.96875 56 27.875 56 \nQ 33.9375 56 38.25 53.625 \nQ 42.578125 51.265625 45.40625 46.390625 \nz\nM 14.796875 27.296875 \nQ 14.796875 17.390625 18.875 11.75 \nQ 22.953125 6.109375 30.078125 6.109375 \nQ 37.203125 6.109375 41.296875 11.75 \nQ 45.40625 17.390625 45.40625 27.296875 \nQ 45.40625 37.203125 41.296875 42.84375 \nQ 37.203125 48.484375 30.078125 48.484375 \nQ 22.953125 48.484375 18.875 42.84375 \nQ 14.796875 37.203125 14.796875 27.296875 \nz\n\" id=\"DejaVuSans-100\"/>\n       <path d=\"M 30.609375 48.390625 \nQ 23.390625 48.390625 19.1875 42.75 \nQ 14.984375 37.109375 14.984375 27.296875 \nQ 14.984375 17.484375 19.15625 11.84375 \nQ 23.34375 6.203125 30.609375 6.203125 \nQ 37.796875 6.203125 41.984375 11.859375 \nQ 46.1875 17.53125 46.1875 27.296875 \nQ 46.1875 37.015625 41.984375 42.703125 \nQ 37.796875 48.390625 30.609375 48.390625 \nz\nM 30.609375 56 \nQ 42.328125 56 49.015625 48.375 \nQ 55.71875 40.765625 55.71875 27.296875 \nQ 55.71875 13.875 49.015625 6.21875 \nQ 42.328125 -1.421875 30.609375 -1.421875 \nQ 18.84375 -1.421875 12.171875 6.21875 \nQ 5.515625 13.875 5.515625 27.296875 \nQ 5.515625 40.765625 12.171875 48.375 \nQ 18.84375 56 30.609375 56 \nz\n\" id=\"DejaVuSans-111\"/>\n      </defs>\n      <use xlink:href=\"#DejaVuSans-77\"/>\n      <use x=\"86.279297\" xlink:href=\"#DejaVuSans-101\"/>\n      <use x=\"147.802734\" xlink:href=\"#DejaVuSans-97\"/>\n      <use x=\"209.082031\" xlink:href=\"#DejaVuSans-110\"/>\n      <use x=\"272.460938\" xlink:href=\"#DejaVuSans-32\"/>\n      <use x=\"304.248047\" xlink:href=\"#DejaVuSans-99\"/>\n      <use x=\"359.228516\" xlink:href=\"#DejaVuSans-97\"/>\n      <use x=\"420.507812\" xlink:href=\"#DejaVuSans-115\"/>\n      <use x=\"472.607422\" xlink:href=\"#DejaVuSans-101\"/>\n      <use x=\"534.130859\" xlink:href=\"#DejaVuSans-115\"/>\n      <use x=\"586.230469\" xlink:href=\"#DejaVuSans-32\"/>\n      <use x=\"618.017578\" xlink:href=\"#DejaVuSans-112\"/>\n      <use x=\"681.494141\" xlink:href=\"#DejaVuSans-101\"/>\n      <use x=\"743.017578\" xlink:href=\"#DejaVuSans-114\"/>\n      <use x=\"784.130859\" xlink:href=\"#DejaVuSans-32\"/>\n      <use x=\"815.917969\" xlink:href=\"#DejaVuSans-100\"/>\n      <use x=\"879.394531\" xlink:href=\"#DejaVuSans-97\"/>\n      <use x=\"940.673828\" xlink:href=\"#DejaVuSans-121\"/>\n      <use x=\"999.853516\" xlink:href=\"#DejaVuSans-32\"/>\n      <use x=\"1031.640625\" xlink:href=\"#DejaVuSans-112\"/>\n      <use x=\"1095.117188\" xlink:href=\"#DejaVuSans-101\"/>\n      <use x=\"1156.640625\" xlink:href=\"#DejaVuSans-114\"/>\n      <use x=\"1197.753906\" xlink:href=\"#DejaVuSans-32\"/>\n      <use x=\"1229.541016\" xlink:href=\"#DejaVuSans-103\"/>\n      <use x=\"1293.017578\" xlink:href=\"#DejaVuSans-101\"/>\n      <use x=\"1354.541016\" xlink:href=\"#DejaVuSans-111\"/>\n     </g>\n    </g>\n   </g>\n   <g id=\"line2d_16\">\n    <path clip-path=\"url(#p0fcfacccbd)\" d=\"M 291.009726 219.309987 \nL 324.935438 219.309987 \nL 324.935438 253.072553 \n\" style=\"fill:none;stroke:#1f77b4;stroke-linecap:square;stroke-width:1.5;\"/>\n   </g>\n   <g id=\"line2d_17\">\n    <path clip-path=\"url(#p0fcfacccbd)\" d=\"M 268.535959 204.251986 \nL 273.858693 204.251986 \nL 273.858693 218.438012 \nL 318.967524 218.438012 \nL 318.967524 220.710911 \nL 332.677597 220.710911 \nL 332.677597 228.090155 \nL 352.032996 228.090155 \nL 352.032996 237.682551 \nL 391.819092 237.682551 \nL 391.819092 261.371623 \n\" style=\"fill:none;stroke:#ff7f0e;stroke-linecap:square;stroke-width:1.5;\"/>\n   </g>\n   <g id=\"line2d_18\">\n    <path clip-path=\"url(#p0fcfacccbd)\" d=\"M 78.691761 26.967273 \nL 108.800159 26.967273 \nL 108.800159 94.394258 \nL 137.833256 94.394258 \nL 137.833256 209.851824 \nL 182.995852 209.851824 \nL 182.995852 234.050098 \nL 244.287946 234.050098 \nL 244.287946 355.197816 \nL 287.837592 355.197816 \nL 287.837592 367.846703 \nL 341.602587 367.846703 \nL 341.602587 376.815292 \nL 427.895404 376.815292 \nL 427.895404 401.904846 \nL 500.478147 401.904846 \nL 500.478147 416.007657 \nL 585.964489 416.007657 \nL 585.964489 422.312727 \n\" style=\"fill:none;stroke:#2ca02c;stroke-linecap:square;stroke-width:1.5;\"/>\n   </g>\n   <g id=\"patch_3\">\n    <path d=\"M 53.328125 442.08 \nL 53.328125 7.2 \n\" style=\"fill:none;stroke:#000000;stroke-linecap:square;stroke-linejoin:miter;stroke-width:0.8;\"/>\n   </g>\n   <g id=\"patch_4\">\n    <path d=\"M 611.328125 442.08 \nL 611.328125 7.2 \n\" style=\"fill:none;stroke:#000000;stroke-linecap:square;stroke-linejoin:miter;stroke-width:0.8;\"/>\n   </g>\n   <g id=\"patch_5\">\n    <path d=\"M 53.328125 442.08 \nL 611.328125 442.08 \n\" style=\"fill:none;stroke:#000000;stroke-linecap:square;stroke-linejoin:miter;stroke-width:0.8;\"/>\n   </g>\n   <g id=\"patch_6\">\n    <path d=\"M 53.328125 7.2 \nL 611.328125 7.2 \n\" style=\"fill:none;stroke:#000000;stroke-linecap:square;stroke-linejoin:miter;stroke-width:0.8;\"/>\n   </g>\n   <g id=\"legend_1\">\n    <g id=\"patch_7\">\n     <path d=\"M 511.017187 59.234375 \nL 604.328125 59.234375 \nQ 606.328125 59.234375 606.328125 57.234375 \nL 606.328125 14.2 \nQ 606.328125 12.2 604.328125 12.2 \nL 511.017187 12.2 \nQ 509.017187 12.2 509.017187 14.2 \nL 509.017187 57.234375 \nQ 509.017187 59.234375 511.017187 59.234375 \nz\n\" style=\"fill:#ffffff;opacity:0.8;stroke:#cccccc;stroke-linejoin:miter;\"/>\n    </g>\n    <g id=\"PathCollection_4\">\n     <g>\n      <use style=\"fill:#1f77b4;stroke:#1f77b4;\" x=\"523.017187\" xlink:href=\"#m394c2126ce\" y=\"21.173437\"/>\n     </g>\n    </g>\n    <g id=\"text_18\">\n     <!-- Random1 -->\n     <g transform=\"translate(541.017187 23.798437)scale(0.1 -0.1)\">\n      <defs>\n       <path d=\"M 44.390625 34.1875 \nQ 47.5625 33.109375 50.5625 29.59375 \nQ 53.5625 26.078125 56.59375 19.921875 \nL 66.609375 0 \nL 56 0 \nL 46.6875 18.703125 \nQ 43.0625 26.03125 39.671875 28.421875 \nQ 36.28125 30.8125 30.421875 30.8125 \nL 19.671875 30.8125 \nL 19.671875 0 \nL 9.8125 0 \nL 9.8125 72.90625 \nL 32.078125 72.90625 \nQ 44.578125 72.90625 50.734375 67.671875 \nQ 56.890625 62.453125 56.890625 51.90625 \nQ 56.890625 45.015625 53.6875 40.46875 \nQ 50.484375 35.9375 44.390625 34.1875 \nz\nM 19.671875 64.796875 \nL 19.671875 38.921875 \nL 32.078125 38.921875 \nQ 39.203125 38.921875 42.84375 42.21875 \nQ 46.484375 45.515625 46.484375 51.90625 \nQ 46.484375 58.296875 42.84375 61.546875 \nQ 39.203125 64.796875 32.078125 64.796875 \nz\n\" id=\"DejaVuSans-82\"/>\n       <path d=\"M 52 44.1875 \nQ 55.375 50.25 60.0625 53.125 \nQ 64.75 56 71.09375 56 \nQ 79.640625 56 84.28125 50.015625 \nQ 88.921875 44.046875 88.921875 33.015625 \nL 88.921875 0 \nL 79.890625 0 \nL 79.890625 32.71875 \nQ 79.890625 40.578125 77.09375 44.375 \nQ 74.3125 48.1875 68.609375 48.1875 \nQ 61.625 48.1875 57.5625 43.546875 \nQ 53.515625 38.921875 53.515625 30.90625 \nL 53.515625 0 \nL 44.484375 0 \nL 44.484375 32.71875 \nQ 44.484375 40.625 41.703125 44.40625 \nQ 38.921875 48.1875 33.109375 48.1875 \nQ 26.21875 48.1875 22.15625 43.53125 \nQ 18.109375 38.875 18.109375 30.90625 \nL 18.109375 0 \nL 9.078125 0 \nL 9.078125 54.6875 \nL 18.109375 54.6875 \nL 18.109375 46.1875 \nQ 21.1875 51.21875 25.484375 53.609375 \nQ 29.78125 56 35.6875 56 \nQ 41.65625 56 45.828125 52.96875 \nQ 50 49.953125 52 44.1875 \nz\n\" id=\"DejaVuSans-109\"/>\n      </defs>\n      <use xlink:href=\"#DejaVuSans-82\"/>\n      <use x=\"67.232422\" xlink:href=\"#DejaVuSans-97\"/>\n      <use x=\"128.511719\" xlink:href=\"#DejaVuSans-110\"/>\n      <use x=\"191.890625\" xlink:href=\"#DejaVuSans-100\"/>\n      <use x=\"255.367188\" xlink:href=\"#DejaVuSans-111\"/>\n      <use x=\"316.548828\" xlink:href=\"#DejaVuSans-109\"/>\n      <use x=\"413.960938\" xlink:href=\"#DejaVuSans-49\"/>\n     </g>\n    </g>\n    <g id=\"PathCollection_5\">\n     <g>\n      <use style=\"fill:#ff7f0e;stroke:#ff7f0e;\" x=\"523.017187\" xlink:href=\"#mac85f8ea4f\" y=\"35.851562\"/>\n     </g>\n    </g>\n    <g id=\"text_19\">\n     <!-- Random2 -->\n     <g transform=\"translate(541.017187 38.476562)scale(0.1 -0.1)\">\n      <use xlink:href=\"#DejaVuSans-82\"/>\n      <use x=\"67.232422\" xlink:href=\"#DejaVuSans-97\"/>\n      <use x=\"128.511719\" xlink:href=\"#DejaVuSans-110\"/>\n      <use x=\"191.890625\" xlink:href=\"#DejaVuSans-100\"/>\n      <use x=\"255.367188\" xlink:href=\"#DejaVuSans-111\"/>\n      <use x=\"316.548828\" xlink:href=\"#DejaVuSans-109\"/>\n      <use x=\"413.960938\" xlink:href=\"#DejaVuSans-50\"/>\n     </g>\n    </g>\n    <g id=\"PathCollection_6\">\n     <g>\n      <use style=\"fill:#2ca02c;stroke:#2ca02c;\" x=\"523.017187\" xlink:href=\"#m9ddec9efc8\" y=\"50.529687\"/>\n     </g>\n    </g>\n    <g id=\"text_20\">\n     <!-- BlindGreedy -->\n     <g transform=\"translate(541.017187 53.154687)scale(0.1 -0.1)\">\n      <defs>\n       <path d=\"M 19.671875 34.8125 \nL 19.671875 8.109375 \nL 35.5 8.109375 \nQ 43.453125 8.109375 47.28125 11.40625 \nQ 51.125 14.703125 51.125 21.484375 \nQ 51.125 28.328125 47.28125 31.5625 \nQ 43.453125 34.8125 35.5 34.8125 \nz\nM 19.671875 64.796875 \nL 19.671875 42.828125 \nL 34.28125 42.828125 \nQ 41.5 42.828125 45.03125 45.53125 \nQ 48.578125 48.25 48.578125 53.8125 \nQ 48.578125 59.328125 45.03125 62.0625 \nQ 41.5 64.796875 34.28125 64.796875 \nz\nM 9.8125 72.90625 \nL 35.015625 72.90625 \nQ 46.296875 72.90625 52.390625 68.21875 \nQ 58.5 63.53125 58.5 54.890625 \nQ 58.5 48.1875 55.375 44.234375 \nQ 52.25 40.28125 46.1875 39.3125 \nQ 53.46875 37.75 57.5 32.78125 \nQ 61.53125 27.828125 61.53125 20.40625 \nQ 61.53125 10.640625 54.890625 5.3125 \nQ 48.25 0 35.984375 0 \nL 9.8125 0 \nz\n\" id=\"DejaVuSans-66\"/>\n       <path d=\"M 9.421875 75.984375 \nL 18.40625 75.984375 \nL 18.40625 0 \nL 9.421875 0 \nz\n\" id=\"DejaVuSans-108\"/>\n       <path d=\"M 59.515625 10.40625 \nL 59.515625 29.984375 \nL 43.40625 29.984375 \nL 43.40625 38.09375 \nL 69.28125 38.09375 \nL 69.28125 6.78125 \nQ 63.578125 2.734375 56.6875 0.65625 \nQ 49.8125 -1.421875 42 -1.421875 \nQ 24.90625 -1.421875 15.25 8.5625 \nQ 5.609375 18.5625 5.609375 36.375 \nQ 5.609375 54.25 15.25 64.234375 \nQ 24.90625 74.21875 42 74.21875 \nQ 49.125 74.21875 55.546875 72.453125 \nQ 61.96875 70.703125 67.390625 67.28125 \nL 67.390625 56.78125 \nQ 61.921875 61.421875 55.765625 63.765625 \nQ 49.609375 66.109375 42.828125 66.109375 \nQ 29.4375 66.109375 22.71875 58.640625 \nQ 16.015625 51.171875 16.015625 36.375 \nQ 16.015625 21.625 22.71875 14.15625 \nQ 29.4375 6.6875 42.828125 6.6875 \nQ 48.046875 6.6875 52.140625 7.59375 \nQ 56.25 8.5 59.515625 10.40625 \nz\n\" id=\"DejaVuSans-71\"/>\n      </defs>\n      <use xlink:href=\"#DejaVuSans-66\"/>\n      <use x=\"68.603516\" xlink:href=\"#DejaVuSans-108\"/>\n      <use x=\"96.386719\" xlink:href=\"#DejaVuSans-105\"/>\n      <use x=\"124.169922\" xlink:href=\"#DejaVuSans-110\"/>\n      <use x=\"187.548828\" xlink:href=\"#DejaVuSans-100\"/>\n      <use x=\"251.025391\" xlink:href=\"#DejaVuSans-71\"/>\n      <use x=\"328.515625\" xlink:href=\"#DejaVuSans-114\"/>\n      <use x=\"367.378906\" xlink:href=\"#DejaVuSans-101\"/>\n      <use x=\"428.902344\" xlink:href=\"#DejaVuSans-101\"/>\n      <use x=\"490.425781\" xlink:href=\"#DejaVuSans-100\"/>\n      <use x=\"553.902344\" xlink:href=\"#DejaVuSans-121\"/>\n     </g>\n    </g>\n   </g>\n  </g>\n </g>\n <defs>\n  <clipPath id=\"p0fcfacccbd\">\n   <rect height=\"434.88\" width=\"558\" x=\"53.328125\" y=\"7.2\"/>\n  </clipPath>\n </defs>\n</svg>\n",
      "text/plain": "<Figure size 720x576 with 1 Axes>"
     },
     "metadata": {
      "needs_background": "light",
      "transient": {}
     },
     "output_type": "display_data"
    }
   ],
   "source": [
    "# Plot overall stringency and cases of each prescription\n",
    "plt.figure(figsize=(10,8))\n",
    "for prescriptor_name in prescription_files:\n",
    "    pdf = df[df['PrescriptorName'] == prescriptor_name]\n",
    "    overall_pdf = pdf.groupby('PrescriptionIndex').mean().reset_index()\n",
    "    plt.scatter(overall_pdf['Stringency'],\n",
    "                overall_pdf['PredictedDailyNewCases'], \n",
    "                label=prescriptor_name)\n",
    "    plot_pareto_curve(list(overall_pdf['Stringency']),\n",
    "                      list(overall_pdf['PredictedDailyNewCases']))\n",
    "plt.xlabel('Mean stringency')\n",
    "plt.ylabel('Mean cases per day per geo')\n",
    "plt.legend()\n",
    "plt.show()"
   ]
  },
  {
   "cell_type": "markdown",
   "metadata": {},
   "source": [
    "Ahora tenemos que reproducir la gráfica con plotly. Empecemos con el scatter"
   ]
  },
  {
   "cell_type": "code",
   "execution_count": 6,
   "metadata": {},
   "outputs": [],
   "source": [
    "import plotly.io as pio\n",
    "pio.renderers.default = 'iframe_connected'"
   ]
  },
  {
   "cell_type": "code",
   "execution_count": 25,
   "metadata": {},
   "outputs": [
    {
     "data": {
      "text/html": "<iframe\n    scrolling=\"no\"\n    width=\"100%\"\n    height=\"545px\"\n    src=\"iframe_figures/figure_15.html\"\n    frameborder=\"0\"\n    allowfullscreen\n></iframe>\n"
     },
     "metadata": {
      "transient": {}
     },
     "output_type": "display_data"
    }
   ],
   "source": [
    "import plotly.express as px\n",
    "pdf = df[df['PrescriptorName'] == 'Random1']\n",
    "overall_pdf = pdf.groupby('PrescriptionIndex').mean().reset_index()\n",
    "fig = px.scatter(overall_pdf, x='Stringency', y='PredictedDailyNewCases')\n",
    "fig.show()"
   ]
  },
  {
   "cell_type": "markdown",
   "metadata": {},
   "source": [
    "Reescribimos la función que grafica el pareto"
   ]
  },
  {
   "cell_type": "code",
   "execution_count": 21,
   "metadata": {},
   "outputs": [],
   "source": [
    "def plot_pareto_curve_ply(objective1_list, objective2_list):\n",
    "    \"\"\"\n",
    "    Plot the pareto curve given the objective values for a set of solutions.\n",
    "    This curve indicates the area dominated by the solution set, i.e., \n",
    "    every point up and to the right is dominated.\n",
    "    \"\"\"\n",
    "    \n",
    "    # Compute pareto set from full solution set.\n",
    "    objective1_pareto, objective2_pareto = compute_pareto_set(objective1_list, \n",
    "                                                              objective2_list)\n",
    "    \n",
    "    # Sort by first objective.\n",
    "    objective1_pareto, objective2_pareto = list(zip(*sorted(zip(objective1_pareto,\n",
    "                                                                objective2_pareto))))\n",
    "    \n",
    "    # Compute the coordinates to plot.\n",
    "    xs = []\n",
    "    ys = []\n",
    "    \n",
    "    xs.append(objective1_pareto[0])\n",
    "    ys.append(objective2_pareto[0])\n",
    "    \n",
    "    for i in range(0, len(objective1_pareto)-1):\n",
    "        \n",
    "        # Add intermediate point between successive solutions\n",
    "        xs.append(objective1_pareto[i+1])\n",
    "        ys.append(objective2_pareto[i])\n",
    "        \n",
    "        # Add next solution on front\n",
    "        xs.append(objective1_pareto[i+1])\n",
    "        ys.append(objective2_pareto[i+1])\n",
    "        \n",
    "    fig = px.line(x=xs, y=ys)\n",
    "    return fig"
   ]
  },
  {
   "cell_type": "code",
   "execution_count": 22,
   "metadata": {},
   "outputs": [
    {
     "data": {
      "text/html": "<iframe\n    scrolling=\"no\"\n    width=\"100%\"\n    height=\"545px\"\n    src=\"iframe_figures/figure_15.html\"\n    frameborder=\"0\"\n    allowfullscreen\n></iframe>\n"
     },
     "metadata": {
      "transient": {}
     },
     "output_type": "display_data"
    }
   ],
   "source": [
    "fig = plot_pareto_curve_ply(list(overall_pdf['Stringency']),\n",
    "                    list(overall_pdf['PredictedDailyNewCases']))\n",
    "fig.show()"
   ]
  },
  {
   "cell_type": "markdown",
   "metadata": {},
   "source": [
    "Ahora ¿cómo ponemos las dos en la misma figura?\n",
    "\n",
    "Tenmos que modificar la función que regresa la gráfica de pareto para que regrese el trace en lugar de la figura, además necesita aceptar un color como argumento"
   ]
  },
  {
   "cell_type": "code",
   "execution_count": 5,
   "metadata": {},
   "outputs": [],
   "source": [
    "def plot_pareto_curve_ply(objective1_list, objective2_list, color=\"red\"):\n",
    "\n",
    "    \"\"\"\n",
    "    Plot the pareto curve given the objective values for a set of solutions.\n",
    "    This curve indicates the area dominated by the solution set, i.e., \n",
    "    every point up and to the right is dominated.\n",
    "    \"\"\"\n",
    "    \n",
    "    # Compute pareto set from full solution set.\n",
    "    objective1_pareto, objective2_pareto = compute_pareto_set(objective1_list, \n",
    "                                                              objective2_list)\n",
    "    \n",
    "    # Sort by first objective.\n",
    "    objective1_pareto, objective2_pareto = list(zip(*sorted(zip(objective1_pareto,\n",
    "                                                                objective2_pareto))))\n",
    "    \n",
    "    # Compute the coordinates to plot.\n",
    "    xs = []\n",
    "    ys = []\n",
    "    \n",
    "    xs.append(objective1_pareto[0])\n",
    "    ys.append(objective2_pareto[0])\n",
    "    \n",
    "    for i in range(0, len(objective1_pareto)-1):\n",
    "        \n",
    "        # Add intermediate point between successive solutions\n",
    "        xs.append(objective1_pareto[i+1])\n",
    "        ys.append(objective2_pareto[i])\n",
    "        \n",
    "        # Add next solution on front\n",
    "        xs.append(objective1_pareto[i+1])\n",
    "        ys.append(objective2_pareto[i+1])\n",
    "        \n",
    "    df = pd.DataFrame([xs, ys]).T\n",
    "    df.columns = [\"Stringency\", 'PredictedDailyNewCases']\n",
    "    return px.line(df, x=\"Stringency\", y='PredictedDailyNewCases', color_discrete_sequence=[color])"
   ]
  },
  {
   "cell_type": "code",
   "execution_count": 2,
   "metadata": {},
   "outputs": [
    {
     "ename": "NameError",
     "evalue": "name 'px' is not defined",
     "output_type": "error",
     "traceback": [
      "\u001b[0;31m---------------------------------------------------------------------------\u001b[0m",
      "\u001b[0;31mNameError\u001b[0m                                 Traceback (most recent call last)",
      "\u001b[0;32m<ipython-input-2-c145f436e0e2>\u001b[0m in \u001b[0;36m<module>\u001b[0;34m\u001b[0m\n\u001b[0;32m----> 1\u001b[0;31m \u001b[0mfig\u001b[0m \u001b[0;34m=\u001b[0m \u001b[0mpx\u001b[0m\u001b[0;34m.\u001b[0m\u001b[0mscatter\u001b[0m\u001b[0;34m(\u001b[0m\u001b[0moverall_pdf\u001b[0m\u001b[0;34m,\u001b[0m \u001b[0mx\u001b[0m\u001b[0;34m=\u001b[0m\u001b[0;34m'Stringency'\u001b[0m\u001b[0;34m,\u001b[0m \u001b[0my\u001b[0m\u001b[0;34m=\u001b[0m\u001b[0;34m'PredictedDailyNewCases'\u001b[0m\u001b[0;34m)\u001b[0m\u001b[0;34m\u001b[0m\u001b[0;34m\u001b[0m\u001b[0m\n\u001b[0m\u001b[1;32m      2\u001b[0m pareto = plot_pareto_curve_ply(list(overall_pdf['Stringency']),\n\u001b[1;32m      3\u001b[0m                     list(overall_pdf['PredictedDailyNewCases']))\n\u001b[1;32m      4\u001b[0m \u001b[0mfig\u001b[0m\u001b[0;34m.\u001b[0m\u001b[0madd_trace\u001b[0m\u001b[0;34m(\u001b[0m\u001b[0mpareto\u001b[0m\u001b[0;34m.\u001b[0m\u001b[0mdata\u001b[0m\u001b[0;34m[\u001b[0m\u001b[0;36m0\u001b[0m\u001b[0;34m]\u001b[0m\u001b[0;34m)\u001b[0m\u001b[0;34m\u001b[0m\u001b[0;34m\u001b[0m\u001b[0m\n\u001b[1;32m      5\u001b[0m \u001b[0mfig\u001b[0m\u001b[0;34m.\u001b[0m\u001b[0mshow\u001b[0m\u001b[0;34m(\u001b[0m\u001b[0;34m)\u001b[0m\u001b[0;34m\u001b[0m\u001b[0;34m\u001b[0m\u001b[0m\n",
      "\u001b[0;31mNameError\u001b[0m: name 'px' is not defined"
     ]
    }
   ],
   "source": [
    "\n",
    "fig = px.scatter(overall_pdf, x='Stringency', y='PredictedDailyNewCases')\n",
    "pareto = plot_pareto_curve_ply(list(overall_pdf['Stringency']),\n",
    "                    list(overall_pdf['PredictedDailyNewCases']))\n",
    "fig.add_trace(pareto.data[0])\n",
    "fig.show()"
   ]
  },
  {
   "cell_type": "markdown",
   "metadata": {},
   "source": [
    "Conjuntando todo"
   ]
  },
  {
   "cell_type": "code",
   "execution_count": 9,
   "metadata": {},
   "outputs": [
    {
     "data": {
      "text/html": "<iframe\n    scrolling=\"no\"\n    width=\"100%\"\n    height=\"545px\"\n    src=\"iframe_figures/figure_9.html\"\n    frameborder=\"0\"\n    allowfullscreen\n></iframe>\n"
     },
     "metadata": {
      "transient": {}
     },
     "output_type": "display_data"
    }
   ],
   "source": [
    "# Plot overall stringency and cases of each prescription\n",
    "import palettable as pltt\n",
    "paleta = pltt.tableau.BlueRed_6.hex_colors\n",
    "for i, prescriptor_name in enumerate(prescription_files):\n",
    "    pdf = df[df['PrescriptorName'] == prescriptor_name]\n",
    "    overall_pdf = pdf.groupby('PrescriptionIndex').mean().reset_index()\n",
    "    if i==0:\n",
    "        fig = px.scatter(overall_pdf, x='Stringency', y='PredictedDailyNewCases',\n",
    "                    color_discrete_sequence=[paleta[i]])\n",
    "        fig.data[-1].name = prescriptor_name\n",
    "        fig.data[-1].showlegend = True\n",
    "    else:\n",
    "        fig.add_trace(px.scatter(overall_pdf, x='Stringency', y='PredictedDailyNewCases',\n",
    "                    color_discrete_sequence=[paleta[i]]).data[0])\n",
    "        fig.data[-1].name = prescriptor_name\n",
    "        fig.data[-1].showlegend = True\n",
    "    pareto = plot_pareto_curve_ply(list(overall_pdf['Stringency']),\n",
    "                    list(overall_pdf['PredictedDailyNewCases']), color=paleta[i])\n",
    "    fig.add_trace(pareto.data[0])\n",
    "fig.show()"
   ]
  },
  {
   "cell_type": "code",
   "execution_count": 39,
   "metadata": {},
   "outputs": [
    {
     "name": "stdout",
     "output_type": "stream",
     "text": [
      "0 Random1\n",
      "1 Random2\n",
      "2 BlindGreedy\n"
     ]
    }
   ],
   "source": [
    "for i,j in enumerate(prescription_files):\n",
    "    print(i,j)"
   ]
  },
  {
   "cell_type": "code",
   "execution_count": 38,
   "metadata": {},
   "outputs": [
    {
     "data": {
      "text/plain": "{'Random1': 'covid_xprize/examples/prescriptors/random/prescriptions/random_presc_1.csv',\n 'Random2': 'covid_xprize/examples/prescriptors/random/prescriptions/random_presc_2.csv',\n 'BlindGreedy': 'covid_xprize/examples/prescriptors/blind_greedy/prescriptions/blind_greedy.csv'}"
     },
     "execution_count": 38,
     "metadata": {},
     "output_type": "execute_result"
    }
   ],
   "source": [
    "prescription_files"
   ]
  }
 ],
 "metadata": {
  "kernelspec": {
   "display_name": "Python 3",
   "language": "python",
   "name": "python3"
  },
  "language_info": {
   "codemirror_mode": {
    "name": "ipython",
    "version": 3
   },
   "file_extension": ".py",
   "mimetype": "text/x-python",
   "name": "python",
   "nbconvert_exporter": "python",
   "pygments_lexer": "ipython3",
   "version": "3.7.8"
  },
  "orig_nbformat": 2
 },
 "nbformat": 4,
 "nbformat_minor": 2
}